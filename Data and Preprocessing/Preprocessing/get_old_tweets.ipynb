{
 "cells": [
  {
   "cell_type": "code",
   "execution_count": 3,
   "metadata": {},
   "outputs": [],
   "source": [
    "import got3\n",
    "import pandas as pd\n",
    "from datetime import timedelta"
   ]
  },
  {
   "cell_type": "code",
   "execution_count": 5,
   "metadata": {},
   "outputs": [
    {
     "name": "stdout",
     "output_type": "stream",
     "text": [
      "Collected tweets of 10 days\n",
      "Collected tweets of 20 days\n",
      "Collected tweets of 30 days\n",
      "Collected tweets of 40 days\n",
      "Collected tweets of 50 days\n",
      "Collected tweets of 60 days\n",
      "Collected tweets of 70 days\n",
      "Collected tweets of 80 days\n",
      "Collected tweets of 90 days\n",
      "Collected tweets of 100 days\n",
      "Collected tweets of 110 days\n",
      "Collected tweets of 120 days\n",
      "Collected tweets of 130 days\n",
      "Collected tweets of 140 days\n",
      "Collected tweets of 150 days\n",
      "Collected tweets of 160 days\n",
      "Collected tweets of 170 days\n",
      "Collected tweets of 180 days\n",
      "Collected tweets of 190 days\n",
      "Collected tweets of 200 days\n",
      "Collected tweets of 210 days\n",
      "Collected tweets of 220 days\n",
      "Collected tweets of 230 days\n",
      "Collected tweets of 240 days\n",
      "Collected tweets of 250 days\n",
      "Collected tweets of 260 days\n",
      "Collected tweets of 270 days\n",
      "Collected tweets of 280 days\n",
      "Collected tweets of 290 days\n",
      "Collected tweets of 300 days\n",
      "Collected tweets of 310 days\n",
      "Collected tweets of 320 days\n",
      "Collected tweets of 330 days\n",
      "Collected tweets of 340 days\n",
      "Collected tweets of 350 days\n",
      "Collected tweets of 360 days\n"
     ]
    }
   ],
   "source": [
    "year = \"2012\"\n",
    "max_tweets = 100\n",
    "timestamp_since = pd.to_datetime(year)\n",
    "timestamp_until = timestamp_since + timedelta(days=1)\n",
    "tweets_df = pd.DataFrame()\n",
    "cnt = 0\n",
    "while timestamp_since.year == int(year):\n",
    "    # collect tweets\n",
    "    tweetCriteria = got3.manager.TweetCriteria().setQuerySearch(\"small business in New York\")\\\n",
    "                    .setSince(str(timestamp_since).split()[0]).setUntil(str(timestamp_until ).split()[0])\\\n",
    "                    .setTopTweets(True).setMaxTweets(max_tweets)\n",
    "    tweets = got3.manager.TweetManager.getTweets(tweetCriteria)\n",
    "    # append collected tweets into dataframe\n",
    "    try:\n",
    "        temp_df = pd.DataFrame()\n",
    "        for tweet in tweets:\n",
    "            temp = {\"year\": year, \"date\": tweet.date,\"id\": tweet.id,\"username\": tweet.username,\"text\": tweet.text}\n",
    "            temp_df = temp_df.append(temp, ignore_index=True)\n",
    "        tweets_df = tweets_df.append(temp_df, ignore_index=True)\n",
    "    except:\n",
    "        pass\n",
    "    cnt += 1\n",
    "    if cnt%10 == 0:\n",
    "        print(\"Collected tweets of %d days\" % (cnt//10*10))\n",
    "    timestamp_since += timedelta(days=1)\n",
    "    timestamp_until = timestamp_since + timedelta(days=1)"
   ]
  },
  {
   "cell_type": "code",
   "execution_count": 14,
   "metadata": {},
   "outputs": [],
   "source": [
    "tweets_df.to_csv(\"New_York_2012.csv\")"
   ]
  }
 ],
 "metadata": {
  "kernelspec": {
   "display_name": "Python 3",
   "language": "python",
   "name": "python3"
  },
  "language_info": {
   "codemirror_mode": {
    "name": "ipython",
    "version": 3
   },
   "file_extension": ".py",
   "mimetype": "text/x-python",
   "name": "python",
   "nbconvert_exporter": "python",
   "pygments_lexer": "ipython3",
   "version": "3.6.5"
  }
 },
 "nbformat": 4,
 "nbformat_minor": 2
}
