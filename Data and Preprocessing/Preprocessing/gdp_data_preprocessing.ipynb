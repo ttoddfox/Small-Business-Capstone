{
 "cells": [
  {
   "cell_type": "code",
   "execution_count": 1,
   "metadata": {
    "collapsed": true
   },
   "outputs": [],
   "source": [
    "import pandas as pd\n",
    "import numpy as np"
   ]
  },
  {
   "cell_type": "code",
   "execution_count": 2,
   "metadata": {},
   "outputs": [
    {
     "data": {
      "text/plain": [
       "Gross domestic product (GDP) by state             60\n",
       "Taxes on production and imports less subsidies    60\n",
       "Gross operating surplus                           60\n",
       "Quantity indexes for real GDP by state            60\n",
       "Subsidies                                         60\n",
       "Real GDP by state                                 60\n",
       "Per capita real GDP by state                      60\n",
       "Taxes on production and imports                   60\n",
       "Compensation of employees                         60\n",
       "Name: ComponentName, dtype: int64"
      ]
     },
     "execution_count": 2,
     "metadata": {},
     "output_type": "execute_result"
    }
   ],
   "source": [
    "gdp=pd.read_csv('C:/Users/ttodd/OneDrive/Desktop/capstone/final data/gdp_final.csv')\n",
    "gdp=gdp.loc[gdp['Description']=='All industry total',:]\n",
    "gdp['ComponentName'].value_counts()"
   ]
  },
  {
   "cell_type": "code",
   "execution_count": 3,
   "metadata": {},
   "outputs": [
    {
     "data": {
      "text/plain": [
       "(540, 27)"
      ]
     },
     "execution_count": 3,
     "metadata": {},
     "output_type": "execute_result"
    }
   ],
   "source": [
    "gdp.shape"
   ]
  },
  {
   "cell_type": "code",
   "execution_count": 4,
   "metadata": {
    "collapsed": true
   },
   "outputs": [],
   "source": [
    "state_list=[\"Alabama\",\"Alaska\",\"Arizona\",\"Arkansas\",\"California\",\"Colorado\",\n",
    "  \"Connecticut\",\"Delaware\",'District of Columbia',\"Florida\",\"Georgia\",\"Hawaii\",\"Idaho\",\"Illinois\",\n",
    "  \"Indiana\",\"Iowa\",\"Kansas\",\"Kentucky\",\"Louisiana\",\"Maine\",\"Maryland\",\n",
    "  \"Massachusetts\",\"Michigan\",\"Minnesota\",\"Mississippi\",\"Missouri\",\"Montana\",\n",
    "  \"Nebraska\",\"Nevada\",\"New Hampshire\",\"New Jersey\",\"New Mexico\",\"New York\",\n",
    "  \"North Carolina\",\"North Dakota\",\"Ohio\",\"Oklahoma\",\"Oregon\",\"Pennsylvania\",\n",
    "  \"Rhode Island\",\"South Carolina\",\"South Dakota\",\"Tennessee\",\"Texas\",\"Utah\",\n",
    "  \"Vermont\",\"Virginia\",\"Washington\",\"West Virginia\",\"Wisconsin\",\"Wyoming\"]\n",
    "gdp=gdp.loc[gdp['GeoName'].isin(state_list),:]"
   ]
  },
  {
   "cell_type": "code",
   "execution_count": 5,
   "metadata": {
    "collapsed": true
   },
   "outputs": [],
   "source": [
    "gdp_2016=pd.read_csv('C:/Users/ttodd/OneDrive/Desktop/capstone/gdp_2016/qgsp_all.csv')\n",
    "gdp_2016=gdp_2016.loc[gdp_2016['Description']=='All industry total',:]\n",
    "gdp_2016['2016']=gdp_2016['2016Q4'].apply(pd.to_numeric,errors='coerce')\n",
    "gdp_2016=gdp_2016.loc[:,['GeoName','ComponentName','2016']]\n",
    "gdp_final=pd.merge(gdp_2016,gdp,how='right',left_on=['GeoName','ComponentName'],right_on=['GeoName','ComponentName'])\n",
    "gdp_final=gdp_final.reindex_axis(sorted(gdp_final.columns,reverse=True), axis=1)\n"
   ]
  },
  {
   "cell_type": "code",
   "execution_count": 6,
   "metadata": {
    "collapsed": true
   },
   "outputs": [],
   "source": [
    "gdp_cleaned_column=['GeoName','ComponentName','1997', '1998',\n",
    "       '1999', '2000', '2001', '2002', '2003', '2004', '2005', '2006', '2007',\n",
    "       '2008', '2009', '2010', '2011', '2012', '2013', '2014', '2015','2016']\n",
    "gdp_final=gdp_final.loc[:,gdp_cleaned_column]\n",
    "gdp_final.to_csv('gdp_final_cleaned.csv')\n",
    "melted_df=gdp_final.melt(id_vars=['ComponentName','GeoName'])"
   ]
  },
  {
   "cell_type": "code",
   "execution_count": 8,
   "metadata": {
    "collapsed": true
   },
   "outputs": [],
   "source": [
    "grouped_df=melted_df.groupby(['ComponentName'])\n",
    "count=0\n",
    "for name, group in grouped_df:\n",
    "    group=group.drop('ComponentName',axis=1)\n",
    "    group.columns=['GeoName','year',name]\n",
    "    #group=group.sort_values([\"GeoName\",'year'])\n",
    "    if count==0:\n",
    "        final_df=group\n",
    "    else:\n",
    "        final_df=pd.merge(final_df,group,on=['GeoName','year'])\n",
    "    count=count+1"
   ]
  },
  {
   "cell_type": "code",
   "execution_count": 12,
   "metadata": {
    "collapsed": true
   },
   "outputs": [],
   "source": [
    "final_df.to_csv('gdp_all_year.csv',index=False)"
   ]
  }
 ],
 "metadata": {
  "kernelspec": {
   "display_name": "Python 3",
   "language": "python",
   "name": "python3"
  },
  "language_info": {
   "codemirror_mode": {
    "name": "ipython",
    "version": 3
   },
   "file_extension": ".py",
   "mimetype": "text/x-python",
   "name": "python",
   "nbconvert_exporter": "python",
   "pygments_lexer": "ipython3",
   "version": "3.6.3"
  }
 },
 "nbformat": 4,
 "nbformat_minor": 2
}
