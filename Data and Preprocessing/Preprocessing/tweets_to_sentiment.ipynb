{
 "cells": [
  {
   "cell_type": "markdown",
   "metadata": {},
   "source": [
    "'Alabama', 'Alaska', 'Arizona', 'Arkansas', 'California',\n",
    "'Colorado', 'Connecticut', 'Delaware', 'District of Columbia',\n",
    "'Florida', 'Georgia', 'Hawaii', 'Idaho', 'Illinois', 'Indiana',\n",
    "'Iowa', 'Kansas', 'Kentucky', 'Louisiana', 'Maine', 'Maryland',\n",
    "'Massachusetts', 'Michigan', 'Minnesota', 'Mississippi',\n",
    "'Missouri', 'Montana', 'Nebraska', 'Nevada', 'New Hampshire',\n",
    "'New Jersey', 'New Mexico', 'New York', 'North Carolina',\n",
    "'North Dakota', 'Ohio', 'Oklahoma', 'Oregon', 'Pennsylvania',\n",
    "'Puerto Rico', 'Rhode Island', 'South Carolina', 'South Dakota',\n",
    "'Tennessee', 'Texas', 'Utah', 'Vermont', 'Virgin Islands',\n",
    "'Virginia', 'Washington', 'West Virginia', 'Wisconsin', 'Wyoming'"
   ]
  },
  {
   "cell_type": "code",
   "execution_count": 1,
   "metadata": {},
   "outputs": [],
   "source": [
    "import pandas as pd\n",
    "import numpy as np\n",
    "import re\n",
    "from textblob import TextBlob"
   ]
  },
  {
   "cell_type": "markdown",
   "metadata": {},
   "source": [
    "**Load & Process Text Data**"
   ]
  },
  {
   "cell_type": "code",
   "execution_count": 2,
   "metadata": {},
   "outputs": [],
   "source": [
    "def get_quarter_info(x):\n",
    "    if x//3 == 0:\n",
    "        return 1\n",
    "    elif x//3 == 1:\n",
    "        return 2\n",
    "    elif x//3 == 2:\n",
    "        return 3\n",
    "    else:\n",
    "        return 4"
   ]
  },
  {
   "cell_type": "markdown",
   "metadata": {},
   "source": [
    "**State name**"
   ]
  },
  {
   "cell_type": "code",
   "execution_count": 74,
   "metadata": {},
   "outputs": [],
   "source": [
    "state_name = \"New_York\""
   ]
  },
  {
   "cell_type": "markdown",
   "metadata": {},
   "source": [
    "**Stitching state tweets from 2012 to 2016**"
   ]
  },
  {
   "cell_type": "code",
   "execution_count": 75,
   "metadata": {},
   "outputs": [],
   "source": [
    "tweets = pd.DataFrame()\n",
    "for year in range(2012, 2017):\n",
    "    temp_tweets = pd.read_csv(\"collected_tweets/%s/%s_%d.csv\" %(state_name, state_name, year))\n",
    "    temp_tweets = temp_tweets[[\"date\",\"id\",\"text\",\"year\"]]\n",
    "    temp_tweets.year = temp_tweets.year.apply(lambda x: int(x))\n",
    "    temp_tweets.date = temp_tweets.date.apply(lambda x: pd.to_datetime(x))\n",
    "    temp_tweets[\"sentiment_score\"] = np.nan\n",
    "    temp_tweets[\"month\"] = temp_tweets.date.apply(lambda x: x.month)\n",
    "    temp_tweets[\"quarter\"] = temp_tweets.month.apply(lambda x: get_quarter_info(x))\n",
    "    tweets = tweets.append(temp_tweets, ignore_index=True)"
   ]
  },
  {
   "cell_type": "markdown",
   "metadata": {},
   "source": [
    "**Processing stitched tweets to sentimental variable**"
   ]
  },
  {
   "cell_type": "code",
   "execution_count": 76,
   "metadata": {},
   "outputs": [],
   "source": [
    "sentiment_proportion = pd.DataFrame()\n",
    "for year in tweets.year.unique():\n",
    "    annual_tweets = tweets[tweets.year == year].reset_index(drop=True)\n",
    "    for quarter in annual_tweets.quarter.unique():\n",
    "        temp_df = annual_tweets[annual_tweets.quarter == quarter].reset_index(drop=True)\n",
    "        quarter_text = \"\"\n",
    "        for idx in range(temp_df.shape[0]):\n",
    "            temp_text = \" \".join(re.sub(\"(@[A-Za-z0-9]+)|([^0-9A-Za-z \\t]) |(\\w+:\\/\\/\\S+)\", \" \", temp_df.loc[idx, \"text\"]).split())\n",
    "            quarter_text += (\" \" + temp_text)\n",
    "        quarter_word_list = quarter_text.split()\n",
    "        total_num = len(quarter_word_list)\n",
    "        pos_num = 0\n",
    "        nue_num = 0\n",
    "        neg_num = 0\n",
    "        for word in quarter_word_list:\n",
    "            blob = TextBlob(word)\n",
    "            sent_score = blob.sentiment.polarity\n",
    "            if sent_score > 0:\n",
    "                pos_num += 1\n",
    "            elif sent_score < 0:\n",
    "                neg_num += 1\n",
    "            else:\n",
    "                nue_num += 1\n",
    "        temp_percentage = {\"year\": year,\n",
    "                           \"quarter\": quarter, \n",
    "                           \"positive\": pos_num/total_num, \n",
    "                           \"neutral\": nue_num/total_num, \n",
    "                           \"negative\": neg_num/total_num}\n",
    "        sentiment_proportion = sentiment_proportion.append(temp_percentage, ignore_index=True)"
   ]
  },
  {
   "cell_type": "code",
   "execution_count": 77,
   "metadata": {},
   "outputs": [],
   "source": [
    "sentiment_proportion = sentiment_proportion.sort_values([\"year\", \"quarter\"])\n",
    "sentiment_proportion[\"timestamp\"] = sentiment_proportion.year.apply(lambda x: str(int(x)) + \"_\") \\\n",
    "                                    + sentiment_proportion.quarter.apply(lambda x: str(int(x)))"
   ]
  },
  {
   "cell_type": "code",
   "execution_count": 78,
   "metadata": {},
   "outputs": [],
   "source": [
    "sentiment_proportion.to_csv(\"sentiment_from_tweets/%s_sentiment.csv\" % state_name)"
   ]
  },
  {
   "cell_type": "code",
   "execution_count": null,
   "metadata": {},
   "outputs": [],
   "source": []
  }
 ],
 "metadata": {
  "kernelspec": {
   "display_name": "Python 3",
   "language": "python",
   "name": "python3"
  },
  "language_info": {
   "codemirror_mode": {
    "name": "ipython",
    "version": 3
   },
   "file_extension": ".py",
   "mimetype": "text/x-python",
   "name": "python",
   "nbconvert_exporter": "python",
   "pygments_lexer": "ipython3",
   "version": "3.6.5"
  }
 },
 "nbformat": 4,
 "nbformat_minor": 2
}
