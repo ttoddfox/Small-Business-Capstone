{
 "cells": [
  {
   "cell_type": "code",
   "execution_count": 10,
   "metadata": {
    "collapsed": true
   },
   "outputs": [],
   "source": [
    "from fredapi import Fred\n",
    "import warnings\n",
    "warnings.filterwarnings('ignore')\n",
    "from fred import Fred\n",
    "import pandas as pd\n",
    "import re\n",
    "import time\n",
    "from functools import reduce"
   ]
  },
  {
   "cell_type": "code",
   "execution_count": 2,
   "metadata": {
    "collapsed": true
   },
   "outputs": [],
   "source": [
    "fr = Fred(api_key='f13196245a409ee3db300071145818eb',response_type='dict')"
   ]
  },
  {
   "cell_type": "code",
   "execution_count": 5,
   "metadata": {
    "collapsed": true
   },
   "outputs": [],
   "source": [
    "state_list=[\"Alabama\",\"Alaska\",\"Arizona\",\"Arkansas\",\"California\",\"Colorado\",\n",
    "  \"Connecticut\",\"Delaware\",'District of Columbia',\"Florida\",\"Georgia\",\"Hawaii\",\"Idaho\",\"Illinois\",\n",
    "  \"Indiana\",\"Iowa\",\"Kansas\",\"Kentucky\",\"Louisiana\",\"Maine\",\"Maryland\",\n",
    "  \"Massachusetts\",\"Michigan\",\"Minnesota\",\"Mississippi\",\"Missouri\",\"Montana\",\n",
    "  \"Nebraska\",\"Nevada\",\"New Hampshire\",\"New Jersey\",\"New Mexico\",\"New York\",\n",
    "  \"North Carolina\",\"North Dakota\",\"Ohio\",\"Oklahoma\",\"Oregon\",\"Pennsylvania\",\n",
    "  \"Rhode Island\",\"South Carolina\",\"South Dakota\",\"Tennessee\",\"Texas\",\"Utah\",\n",
    "  \"Vermont\",\"Virginia\",\"Washington\",\"West Virginia\",\"Wisconsin\",\"Wyoming\"]\n",
    "states = [\"AL\", \"AK\", \"AZ\", \"AR\", \"CA\", \"CO\", \"CT\", \"DC\", \"DE\", \"FL\", \"GA\", \n",
    "          \"HI\", \"ID\", \"IL\", \"IN\", \"IA\", \"KS\", \"KY\", \"LA\", \"ME\", \"MD\", \n",
    "          \"MA\", \"MI\", \"MN\", \"MS\", \"MO\", \"MT\", \"NE\", \"NV\", \"NH\", \"NJ\", \n",
    "          \"NM\", \"NY\", \"NC\", \"ND\", \"OH\", \"OK\", \"OR\", \"PA\", \"RI\", \"SC\", \n",
    "          \"SD\", \"TN\", \"TX\", \"UT\", \"VT\", \"VA\", \"WA\", \"WV\", \"WI\", \"WY\"]\n",
    "states=[x.lower() for x in states]"
   ]
  },
  {
   "cell_type": "code",
   "execution_count": 189,
   "metadata": {
    "collapsed": true
   },
   "outputs": [],
   "source": [
    "all_tags=pd.DataFrame(fr.tag.tags())\n",
    "all_tags['name'][0:50]"
   ]
  },
  {
   "cell_type": "code",
   "execution_count": 6,
   "metadata": {
    "collapsed": true
   },
   "outputs": [],
   "source": [
    "tag_list=['commercial','banks','sales']"
   ]
  },
  {
   "cell_type": "code",
   "execution_count": 133,
   "metadata": {
    "collapsed": true
   },
   "outputs": [],
   "source": [
    "def get_series_df(series_id,title,frequency,state):\n",
    "    df=pd.DataFrame(fr.series.observations(series_id))\n",
    "    df=df.loc[:,['date','value']]\n",
    "    df.columns=['date',title]\n",
    "    df['year']=[x.year for x in df['date']]\n",
    "    if frequency=='A':\n",
    "        df=df.loc[:,['year',title]]\n",
    "    if frequency=='Q':\n",
    "        df['month']=[x.month for x in df['date']]\n",
    "        df=df.loc[df['month']==1,:]\n",
    "        df=df.loc[:,['year',title]]\n",
    "    if frequency=='M':\n",
    "        df['month']=[x.month for x in df['date']]\n",
    "        '''\n",
    "        #Return year data\n",
    "        df=df.loc[df['month']==1,:]\n",
    "        df=df.loc[:,['year',title]]\n",
    "        '''\n",
    "    df['state']=state\n",
    "    df=df.loc[df['year']>=1992,:]\n",
    "    return df"
   ]
  },
  {
   "cell_type": "code",
   "execution_count": 409,
   "metadata": {
    "collapsed": true
   },
   "outputs": [],
   "source": [
    "import re\n",
    "total_df_list1=[]\n",
    "for tag in tag_list:\n",
    "    state_count=0\n",
    "    for state in states:\n",
    "        temp_search=state+';'+tag\n",
    "        temp_df=pd.DataFrame(fr.tag.series(temp_search,order_by='popularity'))\n",
    "        temp_df=temp_df.loc[:,['id','title','frequency_short']]\n",
    "        temp_df['state']=state\n",
    "        temp_df['m_id']=[re.sub(state.upper(),'',x) for x in temp_df['id'] ]\n",
    "        if state_count==0:\n",
    "            final_df=temp_df\n",
    "        else:\n",
    "            final_df=final_df.append(temp_df)\n",
    "        state_count+=1\n",
    "    total_df_list1.append(final_df)"
   ]
  },
  {
   "cell_type": "code",
   "execution_count": 435,
   "metadata": {
    "collapsed": true
   },
   "outputs": [],
   "source": [
    "scrapy_data_list=[]\n",
    "for df in total_df_list1:\n",
    "    get_id=df['m_id'].value_counts()\n",
    "    get_id=get_id[get_id>=48]\n",
    "    id_list=list(get_id.index)\n",
    "    temp_df=df.loc[df['m_id'].isin(id_list)]\n",
    "    scrapy_data_list.append(temp_df)\n",
    "scrapy_final = reduce(lambda left,right: left.append(right),scrapy_data_list)\n",
    "scrapy_final=scrapy_final.reset_index(drop=True)"
   ]
  },
  {
   "cell_type": "code",
   "execution_count": 429,
   "metadata": {
    "collapsed": true
   },
   "outputs": [],
   "source": [
    "\n",
    "def merge_id_df(df):\n",
    "    df=df.reset_index(drop=True)\n",
    "    state_count=0\n",
    "    for i in range(df.shape[0]):\n",
    "        temp_id=df.loc[i,'id']\n",
    "        temp_df=get_series_df(temp_id,df.loc[i,'m_id'],df.loc[i,'frequency_short'],df.loc[i,'state'])\n",
    "        #print(temp_df.shape)\n",
    "        if state_count==0:\n",
    "            state_df=temp_df\n",
    "        else:\n",
    "            state_df=state_df.append(temp_df)\n",
    "        state_count=state_count+1     \n",
    "    state_df.columns=['year',df.loc[i,'title'],'state']\n",
    "    return state_df\n",
    "    \n",
    "    "
   ]
  },
  {
   "cell_type": "code",
   "execution_count": 414,
   "metadata": {},
   "outputs": [
    {
     "name": "stdout",
     "output_type": "stream",
     "text": [
      "ALLL\n",
      "ATRR\n",
      "COALLL\n",
      "FFSSP\n",
      "IBB\n",
      "IBTEIOA\n",
      "LLR\n",
      "NII\n",
      "NINC\n",
      "NP\n",
      "NUM\n",
      "QATA\n",
      "QWATA\n",
      "QWATEC\n",
      "QWATLLNUI\n",
      "RALLL\n",
      "TACAFSS\n",
      "TAHTA\n",
      "TAST\n",
      "TEQC\n",
      "THTMS\n",
      "TISBV\n",
      "TLLFRN\n",
      "TLLFRPD90\n",
      "TLLNUI\n",
      "TNC\n",
      "TTAST\n",
      "X08IOMBI\n",
      "X08IOMBO\n",
      "X08TDCBMBN\n",
      "X08TDCBMBT\n"
     ]
    }
   ],
   "source": [
    "grouped=scrapy_final.groupby('m_id')\n",
    "group_count=0\n",
    "for name, group in grouped:\n",
    "    if group_count==0:\n",
    "        final_df=merge_id_df(group)\n",
    "    else:\n",
    "        temp_df=merge_id_df(group)\n",
    "        temp_df=temp_df.drop_duplicates()\n",
    "        final_df=pd.merge(final_df,temp_df,on=['state','year'],how='outer')\n",
    "        final_df=final_df.drop_duplicates()\n",
    "    group_count+=1  \n",
    "final_df.dropna(axis=1,thresh=1200)\n",
    "\n",
    "    "
   ]
  },
  {
   "cell_type": "code",
   "execution_count": 436,
   "metadata": {
    "collapsed": true
   },
   "outputs": [],
   "source": [
    "final_df.shape\n",
    "final_df.columns=[re.sub('for Wyoming|in Wyoming','',x) for x in final_df.columns]"
   ]
  },
  {
   "cell_type": "code",
   "execution_count": 437,
   "metadata": {},
   "outputs": [
    {
     "data": {
      "text/html": [
       "<div>\n",
       "<style>\n",
       "    .dataframe thead tr:only-child th {\n",
       "        text-align: right;\n",
       "    }\n",
       "\n",
       "    .dataframe thead th {\n",
       "        text-align: left;\n",
       "    }\n",
       "\n",
       "    .dataframe tbody tr th {\n",
       "        vertical-align: top;\n",
       "    }\n",
       "</style>\n",
       "<table border=\"1\" class=\"dataframe\">\n",
       "  <thead>\n",
       "    <tr style=\"text-align: right;\">\n",
       "      <th></th>\n",
       "      <th>year</th>\n",
       "      <th>Allowance for Loan and Lease Losses for Commercial Banks</th>\n",
       "      <th>state</th>\n",
       "      <th>Allocated Transfer Risk Reserves for Commercial Banks</th>\n",
       "      <th>Charge-offs on Allowance for Loan and Lease Losses for Commercial Banks</th>\n",
       "      <th>Federal Funds Sold and Securities Purchased Under Agreements to Resell in Domestic Offices of the Bank and of Its Edge and Agreement Subsidiaries, and in International Banking Facilities (IBFs) for Commercial Banks  (DISCONTINUED)</th>\n",
       "      <th>Interest-Bearing Balances for Commercial Banks</th>\n",
       "      <th>Income (Loss) before Income Taxes and Extraordinary Items and Other Adjustments for Commercial Banks</th>\n",
       "      <th>Loan Loss Reserves for Commercial Banks</th>\n",
       "      <th>Net Interest Income for Commercial Banks</th>\n",
       "      <th>...</th>\n",
       "      <th>Total Investment Securities at Book Value for Commercial Banks  (DISCONTINUED)</th>\n",
       "      <th>Total Loan and Lease Finance Receivables, Nonaccrual for Commercial Banks</th>\n",
       "      <th>Total Loan and Lease Finance Receivables, Past Due 90 Days or More and Still Accruing for Commercial Banks</th>\n",
       "      <th>Total Loans and Leases, Net of Unearned Income for Commercial Banks</th>\n",
       "      <th>Total Net Charge-offs for Commercial Banks</th>\n",
       "      <th>Total Trading Assets for Commercial Banks</th>\n",
       "      <th>Interbank Deposits in Commercial Member Banks</th>\n",
       "      <th>Other Deposits in Commercial Member Banks</th>\n",
       "      <th>Deposits in National Commercial Member Banks</th>\n",
       "      <th>Total Deposits in Commercial Member Banks</th>\n",
       "    </tr>\n",
       "  </thead>\n",
       "  <tbody>\n",
       "    <tr>\n",
       "      <th>0</th>\n",
       "      <td>1992</td>\n",
       "      <td>40584.0</td>\n",
       "      <td>ak</td>\n",
       "      <td>0</td>\n",
       "      <td>2462.0</td>\n",
       "      <td>34695.0</td>\n",
       "      <td>48274</td>\n",
       "      <td>30741</td>\n",
       "      <td>40584</td>\n",
       "      <td>56851</td>\n",
       "      <td>...</td>\n",
       "      <td>1952687.0</td>\n",
       "      <td>23235</td>\n",
       "      <td>12045</td>\n",
       "      <td>2013232</td>\n",
       "      <td>1466.0</td>\n",
       "      <td>NaN</td>\n",
       "      <td>NaN</td>\n",
       "      <td>NaN</td>\n",
       "      <td>NaN</td>\n",
       "      <td>NaN</td>\n",
       "    </tr>\n",
       "    <tr>\n",
       "      <th>1</th>\n",
       "      <td>1993</td>\n",
       "      <td>40173.0</td>\n",
       "      <td>ak</td>\n",
       "      <td>0</td>\n",
       "      <td>2281.0</td>\n",
       "      <td>54680.0</td>\n",
       "      <td>35699</td>\n",
       "      <td>30801</td>\n",
       "      <td>40173</td>\n",
       "      <td>60031</td>\n",
       "      <td>...</td>\n",
       "      <td>1995240.0</td>\n",
       "      <td>17003</td>\n",
       "      <td>5192</td>\n",
       "      <td>2273294</td>\n",
       "      <td>1195.0</td>\n",
       "      <td>NaN</td>\n",
       "      <td>NaN</td>\n",
       "      <td>NaN</td>\n",
       "      <td>NaN</td>\n",
       "      <td>NaN</td>\n",
       "    </tr>\n",
       "    <tr>\n",
       "      <th>2</th>\n",
       "      <td>1994</td>\n",
       "      <td>38471.0</td>\n",
       "      <td>ak</td>\n",
       "      <td>0</td>\n",
       "      <td>2066.0</td>\n",
       "      <td>89130.0</td>\n",
       "      <td>6223</td>\n",
       "      <td>27812</td>\n",
       "      <td>38471</td>\n",
       "      <td>61278</td>\n",
       "      <td>...</td>\n",
       "      <td>NaN</td>\n",
       "      <td>16218</td>\n",
       "      <td>8462</td>\n",
       "      <td>2632478</td>\n",
       "      <td>781.0</td>\n",
       "      <td>0.0</td>\n",
       "      <td>NaN</td>\n",
       "      <td>NaN</td>\n",
       "      <td>NaN</td>\n",
       "      <td>NaN</td>\n",
       "    </tr>\n",
       "    <tr>\n",
       "      <th>3</th>\n",
       "      <td>1995</td>\n",
       "      <td>42582.0</td>\n",
       "      <td>ak</td>\n",
       "      <td>0</td>\n",
       "      <td>1856.0</td>\n",
       "      <td>43834.0</td>\n",
       "      <td>9901</td>\n",
       "      <td>23738</td>\n",
       "      <td>42582</td>\n",
       "      <td>61814</td>\n",
       "      <td>...</td>\n",
       "      <td>NaN</td>\n",
       "      <td>15560</td>\n",
       "      <td>6108</td>\n",
       "      <td>2837095</td>\n",
       "      <td>-3259.0</td>\n",
       "      <td>0.0</td>\n",
       "      <td>NaN</td>\n",
       "      <td>NaN</td>\n",
       "      <td>NaN</td>\n",
       "      <td>NaN</td>\n",
       "    </tr>\n",
       "    <tr>\n",
       "      <th>4</th>\n",
       "      <td>1996</td>\n",
       "      <td>46840.0</td>\n",
       "      <td>ak</td>\n",
       "      <td>0</td>\n",
       "      <td>6115.0</td>\n",
       "      <td>25364.0</td>\n",
       "      <td>9432</td>\n",
       "      <td>27842</td>\n",
       "      <td>46840</td>\n",
       "      <td>68359</td>\n",
       "      <td>...</td>\n",
       "      <td>NaN</td>\n",
       "      <td>21685</td>\n",
       "      <td>8927</td>\n",
       "      <td>3121934</td>\n",
       "      <td>4667.0</td>\n",
       "      <td>0.0</td>\n",
       "      <td>NaN</td>\n",
       "      <td>NaN</td>\n",
       "      <td>NaN</td>\n",
       "      <td>NaN</td>\n",
       "    </tr>\n",
       "  </tbody>\n",
       "</table>\n",
       "<p>5 rows × 33 columns</p>\n",
       "</div>"
      ],
      "text/plain": [
       "   year  Allowance for Loan and Lease Losses for Commercial Banks  state  \\\n",
       "0  1992                                            40584.0            ak   \n",
       "1  1993                                            40173.0            ak   \n",
       "2  1994                                            38471.0            ak   \n",
       "3  1995                                            42582.0            ak   \n",
       "4  1996                                            46840.0            ak   \n",
       "\n",
       "   Allocated Transfer Risk Reserves for Commercial Banks   \\\n",
       "0                                                  0        \n",
       "1                                                  0        \n",
       "2                                                  0        \n",
       "3                                                  0        \n",
       "4                                                  0        \n",
       "\n",
       "   Charge-offs on Allowance for Loan and Lease Losses for Commercial Banks   \\\n",
       "0                                             2462.0                          \n",
       "1                                             2281.0                          \n",
       "2                                             2066.0                          \n",
       "3                                             1856.0                          \n",
       "4                                             6115.0                          \n",
       "\n",
       "   Federal Funds Sold and Securities Purchased Under Agreements to Resell in Domestic Offices of the Bank and of Its Edge and Agreement Subsidiaries, and in International Banking Facilities (IBFs) for Commercial Banks  (DISCONTINUED)  \\\n",
       "0                                            34695.0                                                                                                                                                                                        \n",
       "1                                            54680.0                                                                                                                                                                                        \n",
       "2                                            89130.0                                                                                                                                                                                        \n",
       "3                                            43834.0                                                                                                                                                                                        \n",
       "4                                            25364.0                                                                                                                                                                                        \n",
       "\n",
       "   Interest-Bearing Balances for Commercial Banks   \\\n",
       "0                                            48274   \n",
       "1                                            35699   \n",
       "2                                             6223   \n",
       "3                                             9901   \n",
       "4                                             9432   \n",
       "\n",
       "   Income (Loss) before Income Taxes and Extraordinary Items and Other Adjustments for Commercial Banks   \\\n",
       "0                                              30741                                                       \n",
       "1                                              30801                                                       \n",
       "2                                              27812                                                       \n",
       "3                                              23738                                                       \n",
       "4                                              27842                                                       \n",
       "\n",
       "   Loan Loss Reserves for Commercial Banks   \\\n",
       "0                                     40584   \n",
       "1                                     40173   \n",
       "2                                     38471   \n",
       "3                                     42582   \n",
       "4                                     46840   \n",
       "\n",
       "   Net Interest Income for Commercial Banks   \\\n",
       "0                                      56851   \n",
       "1                                      60031   \n",
       "2                                      61278   \n",
       "3                                      61814   \n",
       "4                                      68359   \n",
       "\n",
       "                      ...                      \\\n",
       "0                     ...                       \n",
       "1                     ...                       \n",
       "2                     ...                       \n",
       "3                     ...                       \n",
       "4                     ...                       \n",
       "\n",
       "   Total Investment Securities at Book Value for Commercial Banks  (DISCONTINUED)  \\\n",
       "0                                          1952687.0                                \n",
       "1                                          1995240.0                                \n",
       "2                                                NaN                                \n",
       "3                                                NaN                                \n",
       "4                                                NaN                                \n",
       "\n",
       "   Total Loan and Lease Finance Receivables, Nonaccrual for Commercial Banks   \\\n",
       "0                                              23235                            \n",
       "1                                              17003                            \n",
       "2                                              16218                            \n",
       "3                                              15560                            \n",
       "4                                              21685                            \n",
       "\n",
       "   Total Loan and Lease Finance Receivables, Past Due 90 Days or More and Still Accruing for Commercial Banks   \\\n",
       "0                                              12045                                                             \n",
       "1                                               5192                                                             \n",
       "2                                               8462                                                             \n",
       "3                                               6108                                                             \n",
       "4                                               8927                                                             \n",
       "\n",
       "   Total Loans and Leases, Net of Unearned Income for Commercial Banks   \\\n",
       "0                                            2013232                      \n",
       "1                                            2273294                      \n",
       "2                                            2632478                      \n",
       "3                                            2837095                      \n",
       "4                                            3121934                      \n",
       "\n",
       "   Total Net Charge-offs for Commercial Banks   \\\n",
       "0                                       1466.0   \n",
       "1                                       1195.0   \n",
       "2                                        781.0   \n",
       "3                                      -3259.0   \n",
       "4                                       4667.0   \n",
       "\n",
       "   Total Trading Assets for Commercial Banks   \\\n",
       "0                                         NaN   \n",
       "1                                         NaN   \n",
       "2                                         0.0   \n",
       "3                                         0.0   \n",
       "4                                         0.0   \n",
       "\n",
       "   Interbank Deposits in Commercial Member Banks   \\\n",
       "0                                             NaN   \n",
       "1                                             NaN   \n",
       "2                                             NaN   \n",
       "3                                             NaN   \n",
       "4                                             NaN   \n",
       "\n",
       "   Other Deposits in Commercial Member Banks   \\\n",
       "0                                         NaN   \n",
       "1                                         NaN   \n",
       "2                                         NaN   \n",
       "3                                         NaN   \n",
       "4                                         NaN   \n",
       "\n",
       "   Deposits in National Commercial Member Banks   \\\n",
       "0                                            NaN   \n",
       "1                                            NaN   \n",
       "2                                            NaN   \n",
       "3                                            NaN   \n",
       "4                                            NaN   \n",
       "\n",
       "   Total Deposits in Commercial Member Banks   \n",
       "0                                         NaN  \n",
       "1                                         NaN  \n",
       "2                                         NaN  \n",
       "3                                         NaN  \n",
       "4                                         NaN  \n",
       "\n",
       "[5 rows x 33 columns]"
      ]
     },
     "execution_count": 437,
     "metadata": {},
     "output_type": "execute_result"
    }
   ],
   "source": [
    "final_df.head(5)"
   ]
  },
  {
   "cell_type": "code",
   "execution_count": 355,
   "metadata": {},
   "outputs": [
    {
     "data": {
      "text/plain": [
       "(1404, 32)"
      ]
     },
     "execution_count": 355,
     "metadata": {},
     "output_type": "execute_result"
    }
   ],
   "source": [
    "final_df.shape"
   ]
  },
  {
   "cell_type": "code",
   "execution_count": 185,
   "metadata": {
    "collapsed": true
   },
   "outputs": [],
   "source": [
    "temp_df=pd.DataFrame(fr.tag.series('ca;sales',order_by='popularity'))\n",
    "temp_df=temp_df.loc[:,['id','title']]\n",
    "temp_df['id']=[re.sub('CA','',x) for x in temp_df['id'] ]\n",
    "temp_df1=pd.DataFrame(fr.tag.series('ak;sales',order_by='popularity'))\n",
    "temp_df1['id']=[re.sub('AK','',x) for x in temp_df1['id'] ]\n",
    "m_df=pd.merge(temp_df,temp_df1,on='id',how='inner')"
   ]
  },
  {
   "cell_type": "code",
   "execution_count": null,
   "metadata": {
    "collapsed": true
   },
   "outputs": [],
   "source": []
  },
  {
   "cell_type": "code",
   "execution_count": 143,
   "metadata": {
    "collapsed": true
   },
   "outputs": [],
   "source": []
  },
  {
   "cell_type": "code",
   "execution_count": 64,
   "metadata": {},
   "outputs": [
    {
     "data": {
      "text/plain": [
       "\"\\nalbama=fr.category.series('27282',order_by='popularity',sort_order='desc')\\nalska=fr.category.series('27286',order_by='popularity',sort_order='desc')\\n#help(fr.category.series)\\nalbama=pd.DataFrame(albama)\\nalska=pd.DataFrame(alska)\\nalbama=albama.loc[:,['id','title']]\\nalska=alska.loc[:,['id','title']]\\nimport re\\nalbama['title']=[re.sub('for Alabama|in Alabama','',x) for x in albama['title'] ]\\nalska['title']=[re.sub('for California|in California','',x) for x in alska['title'] ]\\nalbama['id_me']=[re.sub('AL','',x) for x in albama['id'] ]\\nalska['id_me']=[re.sub('CA','',x) for x in alska['id'] ]\\n\""
      ]
     },
     "execution_count": 64,
     "metadata": {},
     "output_type": "execute_result"
    }
   ],
   "source": [
    "'''\n",
    "total_df_list=[]\n",
    "for tag in tag_list:\n",
    "    state_count=0\n",
    "    for state in states:\n",
    "        temp_search=state+';'+tag\n",
    "        #print(temp_search)\n",
    "        temp_df=pd.DataFrame(fr.tag.series(temp_search,order_by='popularity'))\n",
    "        temp_df=temp_df.loc[:,['id']]\n",
    "        temp_df['m_id']=[re.sub(state.upper(),'',x) for x in temp_df['id'] ]\n",
    "        if state_count==0:\n",
    "            final_df=temp_df\n",
    "        else:\n",
    "            final_df=pd.merge(final_df,temp_df,on='m_id',how='inner')\n",
    "        state_count+=1\n",
    "    total_df_list.append(final_df)\n",
    "'''\n",
    "\n",
    "\n",
    "'''\n",
    "albama=fr.category.series('27282',order_by='popularity',sort_order='desc')\n",
    "alska=fr.category.series('27286',order_by='popularity',sort_order='desc')\n",
    "#help(fr.category.series)\n",
    "albama=pd.DataFrame(albama)\n",
    "alska=pd.DataFrame(alska)\n",
    "albama=albama.loc[:,['id','title']]\n",
    "alska=alska.loc[:,['id','title']]\n",
    "import re\n",
    "albama['title']=[re.sub('for Alabama|in Alabama','',x) for x in albama['title'] ]\n",
    "alska['title']=[re.sub('for California|in California','',x) for x in alska['title'] ]\n",
    "albama['id_me']=[re.sub('AL','',x) for x in albama['id'] ]\n",
    "alska['id_me']=[re.sub('CA','',x) for x in alska['id'] ]\n",
    "'''"
   ]
  },
  {
   "cell_type": "code",
   "execution_count": 364,
   "metadata": {
    "collapsed": true
   },
   "outputs": [],
   "source": [
    "from census import Census\n",
    "\n",
    "\n",
    "https://api.census.gov/data/2017/acs/acs1?get=B00001_001E,NAME&for=state:*&time=2014*&key=879116b83035eef6bc66700515158f25b5f38c57"
   ]
  },
  {
   "cell_type": "code",
   "execution_count": 365,
   "metadata": {
    "collapsed": true
   },
   "outputs": [],
   "source": [
    "c = Census(\"879116b83035eef6bc66700515158f25b5f38c57\")"
   ]
  },
  {
   "cell_type": "code",
   "execution_count": null,
   "metadata": {
    "collapsed": true
   },
   "outputs": [],
   "source": [
    "https://api.census.gov/data/timeseries/bds/firms?get=estabs,sic1&for=state:*&time=2014&key=879116b83035eef6bc66700515158f25b5f38c57"
   ]
  },
  {
   "cell_type": "code",
   "execution_count": 402,
   "metadata": {
    "collapsed": true
   },
   "outputs": [],
   "source": [
    "html='''https://api.census.gov/data/timeseries/bds/firms?get=estabs,sic1&for=state:*&time=2014&key=879116b83035eef6bc66700515158f25b5f38c57'''"
   ]
  },
  {
   "cell_type": "code",
   "execution_count": 367,
   "metadata": {
    "collapsed": true
   },
   "outputs": [],
   "source": [
    "import requests"
   ]
  },
  {
   "cell_type": "code",
   "execution_count": 400,
   "metadata": {
    "collapsed": true
   },
   "outputs": [],
   "source": [
    "response=requests.get(html)"
   ]
  },
  {
   "cell_type": "code",
   "execution_count": 372,
   "metadata": {
    "collapsed": true
   },
   "outputs": [],
   "source": [
    "import pandas as pd\n",
    "import cenpy as cen\n",
    "import pysal"
   ]
  },
  {
   "cell_type": "code",
   "execution_count": 376,
   "metadata": {
    "collapsed": true
   },
   "outputs": [],
   "source": [
    "datasets = list(cen.explorer.available(verbose=True).items())\n",
    "datasets=pd.DataFrame(datasets)"
   ]
  },
  {
   "cell_type": "code",
   "execution_count": 442,
   "metadata": {},
   "outputs": [
    {
     "data": {
      "text/plain": [
       "True"
      ]
     },
     "execution_count": 442,
     "metadata": {},
     "output_type": "execute_result"
    }
   ],
   "source": [
    "'a' in 'abc'"
   ]
  },
  {
   "cell_type": "code",
   "execution_count": 2,
   "metadata": {},
   "outputs": [
    {
     "data": {
      "text/plain": [
       "\"\\nfor i in datasets.iloc[:,1]:\\n    temp_str=i.lower()\\n    if 'business' in temp_str:\\n        print(temp_str)\\n\""
      ]
     },
     "execution_count": 2,
     "metadata": {},
     "output_type": "execute_result"
    }
   ],
   "source": [
    "'''\n",
    "for i in datasets.iloc[:,1]:\n",
    "    temp_str=i.lower()\n",
    "    if 'business' in temp_str:\n",
    "        print(temp_str)\n",
    "'''"
   ]
  },
  {
   "cell_type": "code",
   "execution_count": null,
   "metadata": {},
   "outputs": [],
   "source": []
  },
  {
   "cell_type": "code",
   "execution_count": null,
   "metadata": {},
   "outputs": [],
   "source": []
  },
  {
   "cell_type": "code",
   "execution_count": null,
   "metadata": {
    "collapsed": true
   },
   "outputs": [],
   "source": []
  },
  {
   "cell_type": "code",
   "execution_count": null,
   "metadata": {},
   "outputs": [],
   "source": []
  },
  {
   "cell_type": "code",
   "execution_count": null,
   "metadata": {},
   "outputs": [],
   "source": []
  },
  {
   "cell_type": "code",
   "execution_count": null,
   "metadata": {},
   "outputs": [],
   "source": [
    "for i in datasets.iloc[:,0]:\n",
    "    if i[0:3]=='BDS':\n",
    "        print(i)\n",
    "dataset = 'BDSFirmsTimeSeries'\n",
    "con = cen.base.Connection(dataset)\n",
    "con.geographies['fips']\n",
    "con.query(cols=['estabs'],geo_unit='state',apikey='879116b83035eef6bc66700515158f25b5f38c57')\n",
    "state_category=pd.DataFrame(fr.category.children('27281'))\n",
    "state_category=state_category.loc[state_category['name'].isin(state_list),:]\n",
    "state_category.reset_index(drop=True)"
   ]
  }
 ],
 "metadata": {
  "kernelspec": {
   "display_name": "Python 3",
   "language": "python",
   "name": "python3"
  },
  "language_info": {
   "codemirror_mode": {
    "name": "ipython",
    "version": 3
   },
   "file_extension": ".py",
   "mimetype": "text/x-python",
   "name": "python",
   "nbconvert_exporter": "python",
   "pygments_lexer": "ipython3",
   "version": "3.6.3"
  }
 },
 "nbformat": 4,
 "nbformat_minor": 2
}
