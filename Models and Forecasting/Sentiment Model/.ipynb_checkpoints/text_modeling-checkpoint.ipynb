{
 "cells": [
  {
   "cell_type": "code",
   "execution_count": 50,
   "metadata": {},
   "outputs": [],
   "source": [
    "# Data preparation\n",
    "import pandas as pd\n",
    "import numpy as np\n",
    "import matplotlib.pyplot as plt\n",
    "import seaborn as sns\n",
    "from plotnine import *\n",
    "plt.style.use('ggplot')\n",
    "# Modeling\n",
    "from sklearn.model_selection import train_test_split\n",
    "from sklearn.preprocessing import StandardScaler\n",
    "from sklearn.pipeline import Pipeline\n",
    "from sklearn.grid_search import GridSearchCV\n",
    "from sklearn.linear_model import LinearRegression, Lasso, Ridge, ElasticNet\n",
    "from sklearn.ensemble import RandomForestRegressor, AdaBoostRegressor, GradientBoostingRegressor\n",
    "import xgboost as xgb\n",
    "from sklearn.metrics import r2_score"
   ]
  },
  {
   "cell_type": "markdown",
   "metadata": {},
   "source": [
    "# 1.Load & Prepare Data"
   ]
  },
  {
   "cell_type": "markdown",
   "metadata": {},
   "source": [
    "**Tweets:**\n",
    "* We've scraped tweets of 16 states in U.S.\n",
    "* We used \"small business in\" + \"state_name\" as querying key word.\n",
    "* For each state, code requested 100 tweets on daily basis and \"text\",\"date\",\"username\" were attached into dataframe.\n",
    "* Text data (tweets) is scraped and preprocessed into sentimental values (percentage of positive/neutral/negative words) in notebook, \"tweets_to_sentiment\".\n",
    "\n",
    "**Target:**\n",
    "* Target data is from main dataset of this project.\n",
    "\n",
    "**Join:**\n",
    "* Timestamp of both dataset are wrangled into combination of year_quarter and merged on the column."
   ]
  },
  {
   "cell_type": "code",
   "execution_count": 5,
   "metadata": {},
   "outputs": [],
   "source": [
    "def get_quarter_info_target(x):\n",
    "    if x == \"March\":\n",
    "        return 1\n",
    "    elif x == \"June\":\n",
    "        return 2\n",
    "    elif x == \"September\":\n",
    "        return 3\n",
    "    else:\n",
    "        return 4"
   ]
  },
  {
   "cell_type": "markdown",
   "metadata": {},
   "source": [
    "**Load & Merge & Prepare Final Data**"
   ]
  },
  {
   "cell_type": "code",
   "execution_count": 36,
   "metadata": {},
   "outputs": [],
   "source": [
    "final_data = pd.DataFrame()\n",
    "state_name_list = ['Alabama', 'Alaska', 'Arizona', 'Arkansas', 'California',\n",
    "                   'Colorado', 'Connecticut', 'Delaware', 'Florida', 'Georgia', \n",
    "                   'Hawaii', 'Idaho', 'Illinois', 'Indiana', 'New_York']\n",
    "for state in state_name_list:\n",
    "    # Sentiment from tweets\n",
    "    state_name = str(state).replace(\"_\", \" \")\n",
    "    state_sentiment = pd.read_csv(\"sentiment_from_tweets/%s_sentiment.csv\" % state, index_col=0)\n",
    "    # Target: up&down in SME\n",
    "    target = pd.read_csv(\"target.csv\")\n",
    "    target.year = target.year.apply(lambda x: int(x))\n",
    "    target[\"quarter\"] = target.month.apply(lambda x: get_quarter_info_target(x))\n",
    "    target = target.sort_values([\"year\", \"quarter\"])\n",
    "    target[\"timestamp\"] = target.year.apply(lambda x: str(int(x)) + \"_\") \\\n",
    "                                        + target.quarter.apply(lambda x: str(int(x)))\n",
    "    target = target[(target.year > 2011) & (target.year <= 2016) & (target.state == state_name)].reset_index(drop=True)\n",
    "    target = target.drop_duplicates().reset_index(drop=True)\n",
    "    # Merge\n",
    "    temp_data = state_sentiment.copy().reset_index(drop=True)\n",
    "    temp_data = temp_data.merge(target, on=\"timestamp\")\n",
    "    # Processing merged data into change rate\n",
    "    temp_data[\"negative_shift\"] = temp_data.negative.shift(1)\n",
    "    temp_data[\"negative_change_rate\"] = (temp_data.negative - temp_data.negative_shift) / temp_data.negative_shift\n",
    "    temp_data[\"positive_shift\"] = temp_data.positive.shift(1)\n",
    "    temp_data[\"positive_change_rate\"] = (temp_data.positive - temp_data.positive_shift) / temp_data.positive_shift\n",
    "    temp_data[\"neutral_shift\"] = temp_data.neutral.shift(1)\n",
    "    temp_data[\"neutral_change_rate\"] = (temp_data.neutral - temp_data.neutral_shift) / temp_data.neutral_shift\n",
    "    temp_data[\"total_contract_shift\"] = temp_data.total_contract.shift(1)\n",
    "    temp_data[\"total_contract_change_rate\"] = (temp_data.total_contract - temp_data.total_contract_shift) / temp_data.total_contract_shift\n",
    "    temp_data[\"total_expand_shift\"] = temp_data.total_expand.shift(1)\n",
    "    temp_data[\"total_expand_change_rate\"] = (temp_data.total_expand - temp_data.total_expand_shift) / temp_data.total_expand_shift\n",
    "    temp_data[\"net_change_shift\"] = temp_data.net_change.shift(1)\n",
    "    temp_data[\"net_change_change_rate\"] = (temp_data.net_change - temp_data.net_change_shift) / temp_data.net_change_shift\n",
    "    temp_data = temp_data[[\"state\", \"timestamp\", \"negative_change_rate\", \"neutral_change_rate\", \"positive_change_rate\", \n",
    "                           \"total_contract_change_rate\", \"total_expand_change_rate\", \"net_change_change_rate\"]].drop(0).reset_index(drop=True)\n",
    "    # append processed data into final dataset\n",
    "    final_data = final_data.append(temp_data, ignore_index=True)\n",
    "final_data = final_data.reset_index(drop=True)"
   ]
  },
  {
   "cell_type": "markdown",
   "metadata": {},
   "source": [
    "**Split data into X, y**"
   ]
  },
  {
   "cell_type": "code",
   "execution_count": 46,
   "metadata": {},
   "outputs": [],
   "source": [
    "X = final_data[[\"negative_change_rate\", \"neutral_change_rate\", \"positive_change_rate\"]]\n",
    "y_contract = final_data[\"total_contract_change_rate\"]\n",
    "y_expand = final_data[\"total_expand_change_rate\"]\n",
    "y_net_change = final_data[\"net_change_change_rate\"]"
   ]
  },
  {
   "cell_type": "markdown",
   "metadata": {},
   "source": [
    "**Split data into train, test set**"
   ]
  },
  {
   "cell_type": "code",
   "execution_count": 49,
   "metadata": {},
   "outputs": [],
   "source": [
    "X_train_contract, X_test_contract, y_train_contract, y_test_contract = train_test_split(X, y_contract, test_size=0.2, random_state=42)\n",
    "X_train_expand, X_test_expand, y_train_expand, y_test_expand = train_test_split(X, y_expand, test_size=0.2, random_state=42)\n",
    "X_train_net_change, X_test_net_change, y_train_net_change, y_test_net_change = train_test_split(X, y_net_change, test_size=0.2, random_state=42)"
   ]
  },
  {
   "cell_type": "markdown",
   "metadata": {},
   "source": [
    "# 2.Forecasting Model"
   ]
  },
  {
   "cell_type": "markdown",
   "metadata": {},
   "source": [
    "## 2-1.Contract"
   ]
  },
  {
   "cell_type": "code",
   "execution_count": 51,
   "metadata": {},
   "outputs": [],
   "source": [
    "cv_score_sheet_contract = pd.DataFrame(columns=[\"Model\", \"CV score\"])\n",
    "model_dict_contract = {}"
   ]
  },
  {
   "cell_type": "markdown",
   "metadata": {},
   "source": [
    "**Linear Models**"
   ]
  },
  {
   "cell_type": "code",
   "execution_count": 53,
   "metadata": {},
   "outputs": [],
   "source": [
    "# Linear Regression\n",
    "linear_pipe = Pipeline(memory=None, \n",
    "                       steps=[('standardscaler', StandardScaler()), ('linearregression', LinearRegression())])\n",
    "linear_param_grid = {}\n",
    "linear_grid_contract = GridSearchCV(linear_pipe, param_grid=linear_param_grid, cv=10, refit=True, iid=True, scoring='r2')\n",
    "linear_grid_contract.fit(X_train_contract, y_train_contract);\n",
    "cv_score_sheet_contract = cv_score_sheet_contract.append({\"Model\": \"Linear Regression\", \"CV score\": round(linear_grid_contract.best_score_,2)}, ignore_index=True)\n",
    "model_dict_contract[\"Linear Regression\"] = linear_grid_contract"
   ]
  },
  {
   "cell_type": "code",
   "execution_count": 54,
   "metadata": {},
   "outputs": [],
   "source": [
    "# Ridge\n",
    "ridge_pipe = Pipeline(memory=None, \n",
    "                      steps=[('standardscaler', StandardScaler()), ('ridge', Ridge())])\n",
    "ridge_param_grid = {\"ridge__alpha\": np.logspace(0, 3, 30)}\n",
    "ridge_grid_contract = GridSearchCV(ridge_pipe, param_grid=ridge_param_grid, cv=10, refit=True, iid=True, scoring='r2')\n",
    "ridge_grid_contract.fit(X_train_contract, y_train_contract);\n",
    "cv_score_sheet_contract = cv_score_sheet_contract.append({\"Model\": \"Ridge Regression\", \"CV score\": round(ridge_grid_contract.best_score_,2)}, ignore_index=True)\n",
    "model_dict_contract[\"Ridge Regression\"] = ridge_grid_contract"
   ]
  },
  {
   "cell_type": "code",
   "execution_count": 55,
   "metadata": {},
   "outputs": [],
   "source": [
    "# Lasso\n",
    "lasso_pipe = Pipeline(memory=None, \n",
    "                      steps=[('standardscaler', StandardScaler()), ('lasso', Lasso())])\n",
    "lasso_param_grid = {\"lasso__alpha\": np.logspace(0, 3, 30)}\n",
    "lasso_grid_contract = GridSearchCV(lasso_pipe, param_grid=lasso_param_grid, cv=10, refit=True, iid=True, scoring='r2')\n",
    "lasso_grid_contract.fit(X_train_contract, y_train_contract);\n",
    "cv_score_sheet_contract = cv_score_sheet_contract.append({\"Model\": \"Lasso Regression\", \"CV score\": round(lasso_grid_contract.best_score_,2)}, ignore_index=True)\n",
    "model_dict_contract[\"Lasso Regression\"] = lasso_grid_contract"
   ]
  },
  {
   "cell_type": "code",
   "execution_count": 56,
   "metadata": {},
   "outputs": [],
   "source": [
    "# ElasticNet\n",
    "elasticnet_pipe = Pipeline(memory=None, \n",
    "                        steps=[('standardscaler', StandardScaler()), ('elasticnet', ElasticNet())])\n",
    "elasticnet_param_grid = {\"elasticnet__alpha\": np.logspace(0, 3, 30), \n",
    "                         \"elasticnet__l1_ratio\": [.1, .2, .3, .4, .5, .6, .7, .8, .9]}\n",
    "elasticnet_grid_contract = GridSearchCV(elasticnet_pipe, param_grid=elasticnet_param_grid, cv=10, refit=True, iid=True, scoring='r2')\n",
    "elasticnet_grid_contract.fit(X_train_contract, y_train_contract);\n",
    "cv_score_sheet_contract = cv_score_sheet_contract.append({\"Model\": \"ElasticNet\", \"CV score\": round(elasticnet_grid_contract.best_score_,2)}, ignore_index=True)\n",
    "model_dict_contract[\"ElasticNet\"] = elasticnet_grid_contract"
   ]
  },
  {
   "cell_type": "markdown",
   "metadata": {},
   "source": [
    "**Tree-based Models**"
   ]
  },
  {
   "cell_type": "code",
   "execution_count": 57,
   "metadata": {},
   "outputs": [],
   "source": [
    "# RandomForest\n",
    "rf_pipe = Pipeline(memory=None, \n",
    "                        steps=[('rf', RandomForestRegressor(n_estimators=100))])\n",
    "rf_param_grid = {\"rf__max_depth\": [3, 5, 7, 8]}\n",
    "rf_grid_contract = GridSearchCV(rf_pipe, param_grid=rf_param_grid, cv=10, refit=True, iid=True, scoring='r2')\n",
    "rf_grid_contract.fit(X_train_contract, y_train_contract);\n",
    "cv_score_sheet_contract = cv_score_sheet_contract.append({\"Model\": \"Random Forest Regressor\", \"CV score\": round(rf_grid_contract.best_score_,2)}, ignore_index=True)\n",
    "model_dict_contract[\"Random Forest Regressor\"] = rf_grid_contract"
   ]
  },
  {
   "cell_type": "code",
   "execution_count": 58,
   "metadata": {},
   "outputs": [],
   "source": [
    "# AdaBoost\n",
    "ab_pipe = Pipeline(memory=None, \n",
    "                        steps=[('ab', AdaBoostRegressor(n_estimators=100))])\n",
    "ab_param_grid = {\"ab__learning_rate\": [.05, .1, .15, .2, .25]}\n",
    "ab_grid_contract = GridSearchCV(ab_pipe, param_grid=ab_param_grid, cv=10, refit=True, iid=True, scoring='r2')\n",
    "ab_grid_contract.fit(X_train_contract, y_train_contract);\n",
    "cv_score_sheet_contract = cv_score_sheet_contract.append({\"Model\": \"Adaboost\", \"CV score\": round(ab_grid_contract.best_score_,2)}, ignore_index=True)\n",
    "model_dict_contract[\"Adaboost\"] = ab_grid_contract"
   ]
  },
  {
   "cell_type": "code",
   "execution_count": 59,
   "metadata": {},
   "outputs": [],
   "source": [
    "# Gradient Boost\n",
    "gb_pipe = Pipeline(memory=None, \n",
    "                        steps=[('gb', GradientBoostingRegressor(n_estimators=100, subsample=0.75))])\n",
    "gb_param_grid = {\"gb__learning_rate\": [.05, .1, .15, .2, .25], \"gb__max_depth\": [3, 5, 7, 8]}\n",
    "gb_grid_contract = GridSearchCV(gb_pipe, param_grid=gb_param_grid, cv=10, refit=True, iid=True, scoring='r2')\n",
    "gb_grid_contract.fit(X_train_contract, y_train_contract);\n",
    "cv_score_sheet_contract = cv_score_sheet_contract.append({\"Model\": \"Gradient Boosting Regressor\", \"CV score\": round(gb_grid_contract.best_score_,2)}, ignore_index=True)\n",
    "model_dict_contract[\"Gradient Boosting Regressor\"] = gb_grid_contract"
   ]
  },
  {
   "cell_type": "code",
   "execution_count": 60,
   "metadata": {},
   "outputs": [],
   "source": [
    "# XGBoost\n",
    "xgb_pipe = Pipeline(memory=None, \n",
    "                        steps=[('xgb', xgb.XGBRegressor(n_estimators=100, gamma=0, subsample=0.75, colsample_bytree=1))])\n",
    "xgb_param_grid = {\"xgb__learning_rate\": [.05, .08, .1, .15], \"xgb__max_depth\": [3, 5, 7, 8]}\n",
    "xgb_grid_contract = GridSearchCV(xgb_pipe, param_grid=xgb_param_grid, cv=10, refit=True, iid=True, scoring='r2')\n",
    "xgb_grid_contract.fit(X_train_contract, y_train_contract);\n",
    "cv_score_sheet_contract = cv_score_sheet_contract.append({\"Model\": \"XGBoost Regressor\", \"CV score\": round(xgb_grid_contract.best_score_,2)}, ignore_index=True)\n",
    "model_dict_contract[\"XGBoost Regressor\"] = xgb_grid_contract"
   ]
  },
  {
   "cell_type": "markdown",
   "metadata": {},
   "source": [
    "**Rank by CV score**"
   ]
  },
  {
   "cell_type": "code",
   "execution_count": 61,
   "metadata": {},
   "outputs": [
    {
     "data": {
      "text/html": [
       "<div>\n",
       "<style scoped>\n",
       "    .dataframe tbody tr th:only-of-type {\n",
       "        vertical-align: middle;\n",
       "    }\n",
       "\n",
       "    .dataframe tbody tr th {\n",
       "        vertical-align: top;\n",
       "    }\n",
       "\n",
       "    .dataframe thead th {\n",
       "        text-align: right;\n",
       "    }\n",
       "</style>\n",
       "<table border=\"1\" class=\"dataframe\">\n",
       "  <thead>\n",
       "    <tr style=\"text-align: right;\">\n",
       "      <th></th>\n",
       "      <th>Model</th>\n",
       "      <th>CV score</th>\n",
       "    </tr>\n",
       "  </thead>\n",
       "  <tbody>\n",
       "    <tr>\n",
       "      <th>0</th>\n",
       "      <td>Linear Regression</td>\n",
       "      <td>-0.03</td>\n",
       "    </tr>\n",
       "    <tr>\n",
       "      <th>1</th>\n",
       "      <td>Linear Regression</td>\n",
       "      <td>-0.03</td>\n",
       "    </tr>\n",
       "    <tr>\n",
       "      <th>2</th>\n",
       "      <td>Ridge Regression</td>\n",
       "      <td>-0.02</td>\n",
       "    </tr>\n",
       "    <tr>\n",
       "      <th>3</th>\n",
       "      <td>Lasso Regression</td>\n",
       "      <td>-0.04</td>\n",
       "    </tr>\n",
       "    <tr>\n",
       "      <th>4</th>\n",
       "      <td>ElasticNet</td>\n",
       "      <td>-0.04</td>\n",
       "    </tr>\n",
       "    <tr>\n",
       "      <th>5</th>\n",
       "      <td>Random Forest Regressor</td>\n",
       "      <td>-0.11</td>\n",
       "    </tr>\n",
       "    <tr>\n",
       "      <th>6</th>\n",
       "      <td>Adaboost</td>\n",
       "      <td>-0.08</td>\n",
       "    </tr>\n",
       "    <tr>\n",
       "      <th>7</th>\n",
       "      <td>Gradient Boosting Regressor</td>\n",
       "      <td>-0.30</td>\n",
       "    </tr>\n",
       "    <tr>\n",
       "      <th>8</th>\n",
       "      <td>XGBoost Regressor</td>\n",
       "      <td>-0.28</td>\n",
       "    </tr>\n",
       "  </tbody>\n",
       "</table>\n",
       "</div>"
      ],
      "text/plain": [
       "                         Model  CV score\n",
       "0            Linear Regression     -0.03\n",
       "1            Linear Regression     -0.03\n",
       "2             Ridge Regression     -0.02\n",
       "3             Lasso Regression     -0.04\n",
       "4                   ElasticNet     -0.04\n",
       "5      Random Forest Regressor     -0.11\n",
       "6                     Adaboost     -0.08\n",
       "7  Gradient Boosting Regressor     -0.30\n",
       "8            XGBoost Regressor     -0.28"
      ]
     },
     "execution_count": 61,
     "metadata": {},
     "output_type": "execute_result"
    }
   ],
   "source": [
    "cv_score_sheet_contract"
   ]
  },
  {
   "cell_type": "markdown",
   "metadata": {},
   "source": [
    "## 2-2.Expand"
   ]
  },
  {
   "cell_type": "code",
   "execution_count": 62,
   "metadata": {},
   "outputs": [],
   "source": [
    "cv_score_sheet_expand = pd.DataFrame(columns=[\"Model\", \"CV score\"])\n",
    "model_dict_expand = {}"
   ]
  },
  {
   "cell_type": "markdown",
   "metadata": {},
   "source": [
    "**Linear Models**"
   ]
  },
  {
   "cell_type": "code",
   "execution_count": 63,
   "metadata": {},
   "outputs": [],
   "source": [
    "# Linear Regression\n",
    "linear_grid_expand = GridSearchCV(linear_pipe, param_grid=linear_param_grid, cv=10, refit=True, iid=True, scoring='r2')\n",
    "linear_grid_expand.fit(X_train_expand, y_train_expand);\n",
    "cv_score_sheet_expand = cv_score_sheet_expand.append({\"Model\": \"Linear Regression\", \"CV score\": round(linear_grid_expand.best_score_,2)}, ignore_index=True)\n",
    "model_dict_expand[\"Linear Regression\"] = linear_grid_expand"
   ]
  },
  {
   "cell_type": "code",
   "execution_count": 64,
   "metadata": {},
   "outputs": [],
   "source": [
    "# Ridge\n",
    "ridge_grid_expand = GridSearchCV(ridge_pipe, param_grid=ridge_param_grid, cv=10, refit=True, iid=True, scoring='r2')\n",
    "ridge_grid_expand.fit(X_train_expand, y_train_expand);\n",
    "cv_score_sheet_expand = cv_score_sheet_expand.append({\"Model\": \"Ridge Regression\", \"CV score\": round(ridge_grid_expand.best_score_,2)}, ignore_index=True)\n",
    "model_dict_expand[\"Ridge Regression\"] = ridge_grid_expand"
   ]
  },
  {
   "cell_type": "code",
   "execution_count": 65,
   "metadata": {},
   "outputs": [],
   "source": [
    "# Lasso\n",
    "lasso_grid_expand = GridSearchCV(lasso_pipe, param_grid=lasso_param_grid, cv=10, refit=True, iid=True, scoring='r2')\n",
    "lasso_grid_expand.fit(X_train_expand, y_train_expand);\n",
    "cv_score_sheet_expand = cv_score_sheet_expand.append({\"Model\": \"Lasso Regression\", \"CV score\": round(lasso_grid_expand.best_score_,2)}, ignore_index=True)\n",
    "model_dict_expand[\"Lasso Regression\"] = lasso_grid_expand"
   ]
  },
  {
   "cell_type": "code",
   "execution_count": 66,
   "metadata": {},
   "outputs": [],
   "source": [
    "# ElasticNet\n",
    "elasticnet_grid_expand = GridSearchCV(elasticnet_pipe, param_grid=elasticnet_param_grid, cv=10, refit=True, iid=True, scoring='r2')\n",
    "elasticnet_grid_expand.fit(X_train_expand, y_train_expand);\n",
    "cv_score_sheet_expand = cv_score_sheet_expand.append({\"Model\": \"ElasticNet\", \"CV score\": round(elasticnet_grid_expand.best_score_,2)}, ignore_index=True)\n",
    "model_dict_expand[\"ElasticNet\"] = elasticnet_grid_expand"
   ]
  },
  {
   "cell_type": "markdown",
   "metadata": {},
   "source": [
    "**Tree-based Models**"
   ]
  },
  {
   "cell_type": "code",
   "execution_count": 67,
   "metadata": {},
   "outputs": [],
   "source": [
    "# RandomForest\n",
    "rf_grid_expand = GridSearchCV(rf_pipe, param_grid=rf_param_grid, cv=10, refit=True, iid=True, scoring='r2')\n",
    "rf_grid_expand.fit(X_train_expand, y_train_expand);\n",
    "cv_score_sheet_expand = cv_score_sheet_expand.append({\"Model\": \"Random Forest Regressor\", \"CV score\": round(rf_grid_expand.best_score_,2)}, ignore_index=True)\n",
    "model_dict_expand[\"Random Forest Regressor\"] = rf_grid_expand"
   ]
  },
  {
   "cell_type": "code",
   "execution_count": 68,
   "metadata": {},
   "outputs": [],
   "source": [
    "# AdaBoost\n",
    "ab_grid_expand = GridSearchCV(ab_pipe, param_grid=ab_param_grid, cv=10, refit=True, iid=True, scoring='r2')\n",
    "ab_grid_expand.fit(X_train_expand, y_train_expand);\n",
    "cv_score_sheet_expand = cv_score_sheet_expand.append({\"Model\": \"Adaboost\", \"CV score\": round(ab_grid_expand.best_score_,2)}, ignore_index=True)\n",
    "model_dict_expand[\"Adaboost\"] = ab_grid_expand"
   ]
  },
  {
   "cell_type": "code",
   "execution_count": 69,
   "metadata": {},
   "outputs": [],
   "source": [
    "# Gradient Boost\n",
    "gb_grid_expand = GridSearchCV(gb_pipe, param_grid=gb_param_grid, cv=10, refit=True, iid=True, scoring='r2')\n",
    "gb_grid_expand.fit(X_train_expand, y_train_expand);\n",
    "cv_score_sheet_expand = cv_score_sheet_expand.append({\"Model\": \"Gradient Boosting Regressor\", \"CV score\": round(gb_grid_expand.best_score_,2)}, ignore_index=True)\n",
    "model_dict_expand[\"Gradient Boosting Regressor\"] = gb_grid_expand"
   ]
  },
  {
   "cell_type": "code",
   "execution_count": 70,
   "metadata": {},
   "outputs": [],
   "source": [
    "# XGBoost\n",
    "xgb_grid_expand = GridSearchCV(xgb_pipe, param_grid=xgb_param_grid, cv=10, refit=True, iid=True, scoring='r2')\n",
    "xgb_grid_expand.fit(X_train_expand, y_train_expand);\n",
    "cv_score_sheet_expand = cv_score_sheet_expand.append({\"Model\": \"XGBoost Regressor\", \"CV score\": round(xgb_grid_expand.best_score_,2)}, ignore_index=True)\n",
    "model_dict_expand[\"XGBoost Regressor\"] = xgb_grid_expand"
   ]
  },
  {
   "cell_type": "markdown",
   "metadata": {},
   "source": [
    "**Rank by CV socre**"
   ]
  },
  {
   "cell_type": "code",
   "execution_count": 71,
   "metadata": {},
   "outputs": [
    {
     "data": {
      "text/html": [
       "<div>\n",
       "<style scoped>\n",
       "    .dataframe tbody tr th:only-of-type {\n",
       "        vertical-align: middle;\n",
       "    }\n",
       "\n",
       "    .dataframe tbody tr th {\n",
       "        vertical-align: top;\n",
       "    }\n",
       "\n",
       "    .dataframe thead th {\n",
       "        text-align: right;\n",
       "    }\n",
       "</style>\n",
       "<table border=\"1\" class=\"dataframe\">\n",
       "  <thead>\n",
       "    <tr style=\"text-align: right;\">\n",
       "      <th></th>\n",
       "      <th>Model</th>\n",
       "      <th>CV score</th>\n",
       "    </tr>\n",
       "  </thead>\n",
       "  <tbody>\n",
       "    <tr>\n",
       "      <th>0</th>\n",
       "      <td>Linear Regression</td>\n",
       "      <td>-0.14</td>\n",
       "    </tr>\n",
       "    <tr>\n",
       "      <th>1</th>\n",
       "      <td>Ridge Regression</td>\n",
       "      <td>-0.11</td>\n",
       "    </tr>\n",
       "    <tr>\n",
       "      <th>2</th>\n",
       "      <td>Lasso Regression</td>\n",
       "      <td>-0.11</td>\n",
       "    </tr>\n",
       "    <tr>\n",
       "      <th>3</th>\n",
       "      <td>ElasticNet</td>\n",
       "      <td>-0.11</td>\n",
       "    </tr>\n",
       "    <tr>\n",
       "      <th>4</th>\n",
       "      <td>Random Forest Regressor</td>\n",
       "      <td>-0.18</td>\n",
       "    </tr>\n",
       "    <tr>\n",
       "      <th>5</th>\n",
       "      <td>Adaboost</td>\n",
       "      <td>-0.15</td>\n",
       "    </tr>\n",
       "    <tr>\n",
       "      <th>6</th>\n",
       "      <td>Gradient Boosting Regressor</td>\n",
       "      <td>-0.30</td>\n",
       "    </tr>\n",
       "    <tr>\n",
       "      <th>7</th>\n",
       "      <td>XGBoost Regressor</td>\n",
       "      <td>-0.26</td>\n",
       "    </tr>\n",
       "  </tbody>\n",
       "</table>\n",
       "</div>"
      ],
      "text/plain": [
       "                         Model  CV score\n",
       "0            Linear Regression     -0.14\n",
       "1             Ridge Regression     -0.11\n",
       "2             Lasso Regression     -0.11\n",
       "3                   ElasticNet     -0.11\n",
       "4      Random Forest Regressor     -0.18\n",
       "5                     Adaboost     -0.15\n",
       "6  Gradient Boosting Regressor     -0.30\n",
       "7            XGBoost Regressor     -0.26"
      ]
     },
     "execution_count": 71,
     "metadata": {},
     "output_type": "execute_result"
    }
   ],
   "source": [
    "cv_score_sheet_expand"
   ]
  },
  {
   "cell_type": "markdown",
   "metadata": {},
   "source": [
    "## 2-3. Net Change"
   ]
  },
  {
   "cell_type": "code",
   "execution_count": 73,
   "metadata": {},
   "outputs": [],
   "source": [
    "cv_score_sheet_net_change = pd.DataFrame(columns=[\"Model\", \"CV score\"])\n",
    "model_dict_net_change = {}"
   ]
  },
  {
   "cell_type": "markdown",
   "metadata": {},
   "source": [
    "**Linear Models**"
   ]
  },
  {
   "cell_type": "code",
   "execution_count": 74,
   "metadata": {},
   "outputs": [],
   "source": [
    "# Linear Regression\n",
    "linear_grid_net_change = GridSearchCV(linear_pipe, param_grid=linear_param_grid, cv=10, refit=True, iid=True, scoring='r2')\n",
    "linear_grid_net_change.fit(X_train_net_change, y_train_net_change);\n",
    "cv_score_sheet_net_change = cv_score_sheet_net_change.append({\"Model\": \"Linear Regression\", \"CV score\": round(linear_grid_net_change.best_score_,2)}, ignore_index=True)\n",
    "model_dict_net_change[\"Linear Regression\"] = linear_grid_net_change"
   ]
  },
  {
   "cell_type": "code",
   "execution_count": 75,
   "metadata": {},
   "outputs": [],
   "source": [
    "# Ridge\n",
    "ridge_grid_net_change = GridSearchCV(ridge_pipe, param_grid=ridge_param_grid, cv=10, refit=True, iid=True, scoring='r2')\n",
    "ridge_grid_net_change.fit(X_train_net_change, y_train_net_change);\n",
    "cv_score_sheet_net_change = cv_score_sheet_net_change.append({\"Model\": \"Ridge Regression\", \"CV score\": round(ridge_grid_net_change.best_score_,2)}, ignore_index=True)\n",
    "model_dict_net_change[\"Ridge Regression\"] = ridge_grid_net_change"
   ]
  },
  {
   "cell_type": "code",
   "execution_count": 76,
   "metadata": {},
   "outputs": [],
   "source": [
    "# Lasso\n",
    "lasso_grid_net_change = GridSearchCV(lasso_pipe, param_grid=lasso_param_grid, cv=10, refit=True, iid=True, scoring='r2')\n",
    "lasso_grid_net_change.fit(X_train_net_change, y_train_net_change);\n",
    "cv_score_sheet_net_change = cv_score_sheet_net_change.append({\"Model\": \"Lasso Regression\", \"CV score\": round(lasso_grid_net_change.best_score_,2)}, ignore_index=True)\n",
    "model_dict_net_change[\"Lasso Regression\"] = lasso_grid_net_change"
   ]
  },
  {
   "cell_type": "code",
   "execution_count": 77,
   "metadata": {},
   "outputs": [],
   "source": [
    "# ElasticNet\n",
    "elasticnet_grid_net_change = GridSearchCV(elasticnet_pipe, param_grid=elasticnet_param_grid, cv=10, refit=True, iid=True, scoring='r2')\n",
    "elasticnet_grid_net_change.fit(X_train_net_change, y_train_net_change);\n",
    "cv_score_sheet_net_change = cv_score_sheet_net_change.append({\"Model\": \"ElasticNet\", \"CV score\": round(elasticnet_grid_net_change.best_score_,2)}, ignore_index=True)\n",
    "model_dict_net_change[\"ElasticNet\"] = elasticnet_grid_net_change"
   ]
  },
  {
   "cell_type": "markdown",
   "metadata": {},
   "source": [
    "**Tree-based Models**"
   ]
  },
  {
   "cell_type": "code",
   "execution_count": 78,
   "metadata": {},
   "outputs": [],
   "source": [
    "# RandomForest\n",
    "rf_grid_net_change = GridSearchCV(rf_pipe, param_grid=rf_param_grid, cv=10, refit=True, iid=True, scoring='r2')\n",
    "rf_grid_net_change.fit(X_train_net_change, y_train_net_change);\n",
    "cv_score_sheet_net_change = cv_score_sheet_net_change.append({\"Model\": \"Random Forest Regressor\", \"CV score\": round(rf_grid_net_change.best_score_,2)}, ignore_index=True)\n",
    "model_dict_net_change[\"Random Forest Regressor\"] = rf_grid_net_change"
   ]
  },
  {
   "cell_type": "code",
   "execution_count": 79,
   "metadata": {},
   "outputs": [],
   "source": [
    "# AdaBoost\n",
    "ab_grid_net_change = GridSearchCV(ab_pipe, param_grid=ab_param_grid, cv=10, refit=True, iid=True, scoring='r2')\n",
    "ab_grid_net_change.fit(X_train_net_change, y_train_net_change);\n",
    "cv_score_sheet_net_change = cv_score_sheet_net_change.append({\"Model\": \"Adaboost\", \"CV score\": round(ab_grid_net_change.best_score_,2)}, ignore_index=True)\n",
    "model_dict_net_change[\"Adaboost\"] = ab_grid_net_change"
   ]
  },
  {
   "cell_type": "code",
   "execution_count": 80,
   "metadata": {},
   "outputs": [],
   "source": [
    "# Gradient Boost\n",
    "gb_grid_net_change = GridSearchCV(gb_pipe, param_grid=gb_param_grid, cv=10, refit=True, iid=True, scoring='r2')\n",
    "gb_grid_net_change.fit(X_train_net_change, y_train_net_change);\n",
    "cv_score_sheet_net_change = cv_score_sheet_net_change.append({\"Model\": \"Gradient Boosting Regressor\", \"CV score\": round(gb_grid_net_change.best_score_,2)}, ignore_index=True)\n",
    "model_dict_net_change[\"Gradient Boosting Regressor\"] = gb_grid_net_change"
   ]
  },
  {
   "cell_type": "code",
   "execution_count": 81,
   "metadata": {},
   "outputs": [],
   "source": [
    "# XGBoost\n",
    "xgb_grid_net_change = GridSearchCV(xgb_pipe, param_grid=xgb_param_grid, cv=10, refit=True, iid=True, scoring='r2')\n",
    "xgb_grid_net_change.fit(X_train_net_change, y_train_net_change);\n",
    "cv_score_sheet_net_change = cv_score_sheet_net_change.append({\"Model\": \"XGBoost Regressor\", \"CV score\": round(xgb_grid_net_change.best_score_,2)}, ignore_index=True)\n",
    "model_dict_net_change[\"XGBoost Regressor\"] = xgb_grid_net_change"
   ]
  },
  {
   "cell_type": "markdown",
   "metadata": {},
   "source": [
    "**Rank by CV Score**"
   ]
  },
  {
   "cell_type": "code",
   "execution_count": 87,
   "metadata": {},
   "outputs": [
    {
     "data": {
      "text/html": [
       "<div>\n",
       "<style scoped>\n",
       "    .dataframe tbody tr th:only-of-type {\n",
       "        vertical-align: middle;\n",
       "    }\n",
       "\n",
       "    .dataframe tbody tr th {\n",
       "        vertical-align: top;\n",
       "    }\n",
       "\n",
       "    .dataframe thead th {\n",
       "        text-align: right;\n",
       "    }\n",
       "</style>\n",
       "<table border=\"1\" class=\"dataframe\">\n",
       "  <thead>\n",
       "    <tr style=\"text-align: right;\">\n",
       "      <th></th>\n",
       "      <th>Model</th>\n",
       "      <th>CV score</th>\n",
       "    </tr>\n",
       "  </thead>\n",
       "  <tbody>\n",
       "    <tr>\n",
       "      <th>0</th>\n",
       "      <td>Linear Regression</td>\n",
       "      <td>-1.51</td>\n",
       "    </tr>\n",
       "    <tr>\n",
       "      <th>1</th>\n",
       "      <td>Ridge Regression</td>\n",
       "      <td>-1.50</td>\n",
       "    </tr>\n",
       "    <tr>\n",
       "      <th>2</th>\n",
       "      <td>Lasso Regression</td>\n",
       "      <td>-1.51</td>\n",
       "    </tr>\n",
       "    <tr>\n",
       "      <th>3</th>\n",
       "      <td>ElasticNet</td>\n",
       "      <td>-1.50</td>\n",
       "    </tr>\n",
       "    <tr>\n",
       "      <th>4</th>\n",
       "      <td>Random Forest Regressor</td>\n",
       "      <td>-2.22</td>\n",
       "    </tr>\n",
       "    <tr>\n",
       "      <th>5</th>\n",
       "      <td>Adaboost</td>\n",
       "      <td>-1.18</td>\n",
       "    </tr>\n",
       "    <tr>\n",
       "      <th>6</th>\n",
       "      <td>Gradient Boosting Regressor</td>\n",
       "      <td>-3.32</td>\n",
       "    </tr>\n",
       "    <tr>\n",
       "      <th>7</th>\n",
       "      <td>XGBoost Regressor</td>\n",
       "      <td>-5.10</td>\n",
       "    </tr>\n",
       "  </tbody>\n",
       "</table>\n",
       "</div>"
      ],
      "text/plain": [
       "                         Model  CV score\n",
       "0            Linear Regression     -1.51\n",
       "1             Ridge Regression     -1.50\n",
       "2             Lasso Regression     -1.51\n",
       "3                   ElasticNet     -1.50\n",
       "4      Random Forest Regressor     -2.22\n",
       "5                     Adaboost     -1.18\n",
       "6  Gradient Boosting Regressor     -3.32\n",
       "7            XGBoost Regressor     -5.10"
      ]
     },
     "execution_count": 87,
     "metadata": {},
     "output_type": "execute_result"
    }
   ],
   "source": [
    "cv_score_sheet_net_change"
   ]
  },
  {
   "cell_type": "markdown",
   "metadata": {},
   "source": [
    "# 3. Wrap-Up\n",
    "* After training model forecasting target values (change rate of total contract, change rate of total expand, change rate of net change), trained models shows the negative cross-validation scores (r2 score)\n",
    "* It suggests that it hard to capture trend in target values only with sentimental variables as feature.\n",
    "* However, at the same time, there might comes from characteristic of states or quality of data (better key words exists).\n",
    "* For the next step, we will analyze relationship between raw sentiment variable & target values."
   ]
  }
 ],
 "metadata": {
  "kernelspec": {
   "display_name": "Python 3",
   "language": "python",
   "name": "python3"
  },
  "language_info": {
   "codemirror_mode": {
    "name": "ipython",
    "version": 3
   },
   "file_extension": ".py",
   "mimetype": "text/x-python",
   "name": "python",
   "nbconvert_exporter": "python",
   "pygments_lexer": "ipython3",
   "version": "3.6.5"
  }
 },
 "nbformat": 4,
 "nbformat_minor": 2
}
